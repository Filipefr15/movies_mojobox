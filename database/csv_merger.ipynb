{
 "cells": [
  {
   "cell_type": "code",
   "execution_count": 1,
   "id": "7e2f641a",
   "metadata": {},
   "outputs": [],
   "source": [
    "import pandas as pd\n",
    "import os\n",
    "\n",
    "directory_path = './'\n",
    "csv_files = [f for f in os.listdir(directory_path) if f.endswith('.csv')]\n",
    "\n",
    "dataframes = []\n",
    "for filename in csv_files:\n",
    "    filepath = os.path.join(directory_path, filename)\n",
    "    df = pd.read_csv(filepath)\n",
    "    dataframes.append(df)\n",
    "\n",
    "combined_df = pd.concat(dataframes, ignore_index=False)\n",
    "\n",
    "combined_df.to_csv('worldwide_box_office_1977_2025.csv', index=False)"
   ]
  },
  {
   "cell_type": "code",
   "execution_count": 2,
   "id": "f3e7b3b0",
   "metadata": {},
   "outputs": [],
   "source": [
    "df = pd.read_csv('worldwide_box_office_1977_2025.csv')"
   ]
  },
  {
   "cell_type": "code",
   "execution_count": 7,
   "id": "ea441b24",
   "metadata": {},
   "outputs": [
    {
     "ename": "AttributeError",
     "evalue": "'DataFrame' object has no attribute 'dropDuplicates'",
     "output_type": "error",
     "traceback": [
      "\u001b[1;31m---------------------------------------------------------------------------\u001b[0m",
      "\u001b[1;31mAttributeError\u001b[0m                            Traceback (most recent call last)",
      "\u001b[1;32m~\\AppData\\Local\\Temp\\ipykernel_8656\\1225852317.py\u001b[0m in \u001b[0;36m?\u001b[1;34m()\u001b[0m\n\u001b[1;32m----> 1\u001b[1;33m \u001b[0mdf\u001b[0m \u001b[1;33m=\u001b[0m \u001b[0mdf\u001b[0m\u001b[1;33m.\u001b[0m\u001b[0mdropDuplicates\u001b[0m\u001b[1;33m(\u001b[0m\u001b[1;33m[\u001b[0m\u001b[1;34m\"movie_title\"\u001b[0m\u001b[1;33m]\u001b[0m\u001b[1;33m)\u001b[0m\u001b[1;33m\u001b[0m\u001b[1;33m\u001b[0m\u001b[0m\n\u001b[0m",
      "\u001b[1;32mc:\\Users\\Felipe Rodrigues\\anaconda3\\Lib\\site-packages\\pandas\\core\\generic.py\u001b[0m in \u001b[0;36m?\u001b[1;34m(self, name)\u001b[0m\n\u001b[0;32m   6295\u001b[0m             \u001b[1;32mand\u001b[0m \u001b[0mname\u001b[0m \u001b[1;32mnot\u001b[0m \u001b[1;32min\u001b[0m \u001b[0mself\u001b[0m\u001b[1;33m.\u001b[0m\u001b[0m_accessors\u001b[0m\u001b[1;33m\u001b[0m\u001b[1;33m\u001b[0m\u001b[0m\n\u001b[0;32m   6296\u001b[0m             \u001b[1;32mand\u001b[0m \u001b[0mself\u001b[0m\u001b[1;33m.\u001b[0m\u001b[0m_info_axis\u001b[0m\u001b[1;33m.\u001b[0m\u001b[0m_can_hold_identifiers_and_holds_name\u001b[0m\u001b[1;33m(\u001b[0m\u001b[0mname\u001b[0m\u001b[1;33m)\u001b[0m\u001b[1;33m\u001b[0m\u001b[1;33m\u001b[0m\u001b[0m\n\u001b[0;32m   6297\u001b[0m         \u001b[1;33m)\u001b[0m\u001b[1;33m:\u001b[0m\u001b[1;33m\u001b[0m\u001b[1;33m\u001b[0m\u001b[0m\n\u001b[0;32m   6298\u001b[0m             \u001b[1;32mreturn\u001b[0m \u001b[0mself\u001b[0m\u001b[1;33m[\u001b[0m\u001b[0mname\u001b[0m\u001b[1;33m]\u001b[0m\u001b[1;33m\u001b[0m\u001b[1;33m\u001b[0m\u001b[0m\n\u001b[1;32m-> 6299\u001b[1;33m         \u001b[1;32mreturn\u001b[0m \u001b[0mobject\u001b[0m\u001b[1;33m.\u001b[0m\u001b[0m__getattribute__\u001b[0m\u001b[1;33m(\u001b[0m\u001b[0mself\u001b[0m\u001b[1;33m,\u001b[0m \u001b[0mname\u001b[0m\u001b[1;33m)\u001b[0m\u001b[1;33m\u001b[0m\u001b[1;33m\u001b[0m\u001b[0m\n\u001b[0m",
      "\u001b[1;31mAttributeError\u001b[0m: 'DataFrame' object has no attribute 'dropDuplicates'"
     ]
    }
   ],
   "source": [
    "df = df.dropDuplicates([\"movie_title\"])"
   ]
  },
  {
   "cell_type": "code",
   "execution_count": 6,
   "id": "e6ee49a2",
   "metadata": {},
   "outputs": [
    {
     "data": {
      "text/plain": [
       "array(['Star Wars: Episode IV - A New Hope (1977)',\n",
       "       'Close Encounters of the Third Kind (1977)',\n",
       "       \"Pete's Dragon (1977)\", 'The Rescuers (1977)',\n",
       "       'Herbie Goes to Monte Carlo (1977)', 'Freaky Friday (1976)',\n",
       "       'Grease (1978)', \"National Lampoon's Animal House (1978)\",\n",
       "       'Jaws 2 (1978)', 'Apocalypse Now (1979)',\n",
       "       'When a Stranger Calls (1979)',\n",
       "       'One Hundred and One Dalmatians (1961)',\n",
       "       'Star Wars: Episode V - The Empire Strikes Back (1980)',\n",
       "       'Lady and the Tramp (1955)', 'Song of the South (1946)',\n",
       "       'Herbie Goes Bananas (1980)', 'Raiders of the Lost Ark (1981)',\n",
       "       'The Fox and the Hound (1981)', 'Cinderella (1950)',\n",
       "       'E.T. the Extra-Terrestrial (1982)', 'Rocky III (1982)',\n",
       "       \"Porky's (1981)\", 'Poltergeist (1982)',\n",
       "       'Friday the 13th: Part 3 (1982)', 'Blade Runner (1982)',\n",
       "       'Bambi (1942)', 'Peter Pan (1953)',\n",
       "       'Star Wars: Episode VI - Return of the Jedi (1983)',\n",
       "       'Snow White and the Seven Dwarfs (1937)',\n",
       "       'A Christmas Story (1983)', 'Rear Window (1954)', 'Vertigo (1958)',\n",
       "       'Ghostbusters (1984)', 'Gremlins (1984)', 'Pinocchio (1940)',\n",
       "       'The Jungle Book (1967)', 'The Color Purple (1985)',\n",
       "       'Fantasia (1940)', 'Blood Simple (1984)',\n",
       "       'Hannah and Her Sisters (1986)',\n",
       "       'The Great Mouse Detective (1986)', 'The Mission (1986)',\n",
       "       'Dirty Dancing (1987)', 'Oliver & Company (1988)',\n",
       "       'Pumpkinhead (1988)', 'The Little Mermaid (1989)',\n",
       "       'The Adventures of Milo and Otis (1986)',\n",
       "       'Gone with the Wind (1939)', 'The Wizard of Oz (1939)',\n",
       "       'Beauty and the Beast (1991)', 'Jurassic Park (1993)',\n",
       "       'The Nightmare Before Christmas (1993)', 'The Lion King (1994)',\n",
       "       'Toy Story (1995)', 'Titanic (1997)',\n",
       "       'Star Wars: Episode I - The Phantom Menace (1999)',\n",
       "       'Princess Mononoke (1997)', 'Gladiator (2000)',\n",
       "       \"Harry Potter and the Sorcerer's Stone (2001)\",\n",
       "       'The Lord of the Rings: The Fellowship of the Ring (2001)',\n",
       "       'Monsters, Inc. (2001)', 'Spirited Away (2001)',\n",
       "       'Winged Migration (2001)',\n",
       "       'Asterix & Obelix: Mission Cleopatra (2002)', 'Talk to Her (2002)',\n",
       "       'Dark Water (2005)',\n",
       "       'The Lord of the Rings: The Return of the King (2003)',\n",
       "       'Finding Nemo (2003)', 'The Jungle Book 2 (2003)',\n",
       "       'The Barbarian Invasions (2003)', 'The New World (2005)',\n",
       "       'Night Watch (2004)',\n",
       "       'Star Wars: Episode III - Revenge of the Sith (2005)',\n",
       "       'Pride & Prejudice (2005)', 'Avatar (2009)', '2012 (2009)',\n",
       "       'Coraline (2009)', 'Green Zone (2010)',\n",
       "       'Nodame Cantabile: The Movie II (2010)',\n",
       "       \"Doraemon the Movie: The New Records of Nobita's Spaceblazer (2009)\",\n",
       "       'Inception (2010)', 'StreetDance 2 (2012)', 'Tempest 3D (2012)',\n",
       "       'The Dark Knight Rises (2012)', 'The Wolf of Wall Street (2013)',\n",
       "       'One Direction: This Is Us (2013)', 'Interstellar (2014)',\n",
       "       'Begin Again (2013)', 'Bajrangi Bhaijaan (2015)',\n",
       "       \"Yo-kai Watch Movie: It's the Secret of Birth, Meow! (2014)\",\n",
       "       'Leap! (2016)', 'The Post (2017)', 'Bohemian Rhapsody (2018)',\n",
       "       'Deadpool 2 (2018)',\n",
       "       'Demon Slayer: Kimetsu no Yaiba - The Movie: Mugen Train (2020)',\n",
       "       'Spider-Man: No Way Home (2021)', 'Beast (2022)'], dtype=object)"
      ]
     },
     "execution_count": 6,
     "metadata": {},
     "output_type": "execute_result"
    }
   ],
   "source": [
    "duplicated_titles.unique()"
   ]
  }
 ],
 "metadata": {
  "kernelspec": {
   "display_name": "base",
   "language": "python",
   "name": "python3"
  },
  "language_info": {
   "codemirror_mode": {
    "name": "ipython",
    "version": 3
   },
   "file_extension": ".py",
   "mimetype": "text/x-python",
   "name": "python",
   "nbconvert_exporter": "python",
   "pygments_lexer": "ipython3",
   "version": "3.12.4"
  }
 },
 "nbformat": 4,
 "nbformat_minor": 5
}
