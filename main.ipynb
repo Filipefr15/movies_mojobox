{
 "cells": [
  {
   "cell_type": "code",
   "execution_count": 1,
   "id": "26ac32f7",
   "metadata": {},
   "outputs": [],
   "source": [
    "import re, os, psycopg2, datetime, importlib\n",
    "from selenium.webdriver.support.ui import WebDriverWait\n",
    "from selenium.webdriver.support import expected_conditions as EC\n",
    "from selenium.webdriver.common.by import By\n",
    "#from dotenv import load_dotenv\n",
    "import segmentação.inicializador as init\n",
    "\n",
    "importlib.reload(init)\n",
    "\n",
    "service, options = init.start_driver()\n",
    "\n",
    "# Inicia-se a instância do Chrome WebDriver com as definidas 'options' e 'service', basicamente o driver É o google chrome.\n",
    "year = '1986'\n",
    "driver = init.go_to_site(service, options, f'https://www.boxofficemojo.com/year/world/{year}/')"
   ]
  },
  {
   "cell_type": "code",
   "execution_count": null,
   "id": "2c2080d1",
   "metadata": {},
   "outputs": [
    {
     "name": "stdout",
     "output_type": "stream",
     "text": [
      "https://www.boxofficemojo.com/releasegroup/gr2288472581/?ref_=bo_ydw_table_1\n",
      "https://www.boxofficemojo.com/releasegroup/gr3526185477/?ref_=bo_ydw_table_2\n",
      "https://www.boxofficemojo.com/releasegroup/gr1968394757/?ref_=bo_ydw_table_3\n",
      "https://www.boxofficemojo.com/releasegroup/gr108155397/?ref_=bo_ydw_table_4\n",
      "https://www.boxofficemojo.com/releasegroup/gr1715098117/?ref_=bo_ydw_table_5\n",
      "https://www.boxofficemojo.com/releasegroup/gr2887012869/?ref_=bo_ydw_table_6\n",
      "https://www.boxofficemojo.com/releasegroup/gr2211140101/?ref_=bo_ydw_table_7\n",
      "https://www.boxofficemojo.com/releasegroup/gr3554890245/?ref_=bo_ydw_table_8\n",
      "https://www.boxofficemojo.com/releasegroup/gr1948930565/?ref_=bo_ydw_table_9\n",
      "https://www.boxofficemojo.com/releasegroup/gr1311068677/?ref_=bo_ydw_table_10\n",
      "https://www.boxofficemojo.com/releasegroup/gr3446952453/?ref_=bo_ydw_table_11\n",
      "https://www.boxofficemojo.com/releasegroup/gr946164229/?ref_=bo_ydw_table_12\n",
      "https://www.boxofficemojo.com/releasegroup/gr2432717317/?ref_=bo_ydw_table_13\n",
      "https://www.boxofficemojo.com/releasegroup/gr2151698949/?ref_=bo_ydw_table_14\n",
      "https://www.boxofficemojo.com/releasegroup/gr1413239301/?ref_=bo_ydw_table_15\n",
      "https://www.boxofficemojo.com/releasegroup/gr2388939269/?ref_=bo_ydw_table_16\n",
      "https://www.boxofficemojo.com/releasegroup/gr2381861381/?ref_=bo_ydw_table_17\n",
      "https://www.boxofficemojo.com/releasegroup/gr970543621/?ref_=bo_ydw_table_18\n",
      "https://www.boxofficemojo.com/releasegroup/gr2012631557/?ref_=bo_ydw_table_19\n",
      "https://www.boxofficemojo.com/releasegroup/gr3456061957/?ref_=bo_ydw_table_20\n",
      "https://www.boxofficemojo.com/releasegroup/gr443503109/?ref_=bo_ydw_table_21\n",
      "https://www.boxofficemojo.com/releasegroup/gr3808514565/?ref_=bo_ydw_table_22\n",
      "https://www.boxofficemojo.com/releasegroup/gr3423031813/?ref_=bo_ydw_table_23\n",
      "https://www.boxofficemojo.com/releasegroup/gr1011241477/?ref_=bo_ydw_table_24\n",
      "https://www.boxofficemojo.com/releasegroup/gr4082651653/?ref_=bo_ydw_table_25\n",
      "https://www.boxofficemojo.com/releasegroup/gr1629835781/?ref_=bo_ydw_table_26\n",
      "https://www.boxofficemojo.com/releasegroup/gr3390460421/?ref_=bo_ydw_table_27\n",
      "https://www.boxofficemojo.com/releasegroup/gr490689029/?ref_=bo_ydw_table_28\n",
      "https://www.boxofficemojo.com/releasegroup/gr1834045957/?ref_=bo_ydw_table_29\n",
      "https://www.boxofficemojo.com/releasegroup/gr3309195781/?ref_=bo_ydw_table_30\n",
      "https://www.boxofficemojo.com/releasegroup/gr3804713477/?ref_=bo_ydw_table_31\n",
      "https://www.boxofficemojo.com/releasegroup/gr2170966533/?ref_=bo_ydw_table_32\n",
      "https://www.boxofficemojo.com/releasegroup/gr422662661/?ref_=bo_ydw_table_33\n",
      "https://www.boxofficemojo.com/releasegroup/gr399659525/?ref_=bo_ydw_table_34\n",
      "https://www.boxofficemojo.com/releasegroup/gr2339525125/?ref_=bo_ydw_table_35\n",
      "https://www.boxofficemojo.com/releasegroup/gr3955839493/?ref_=bo_ydw_table_36\n",
      "https://www.boxofficemojo.com/releasegroup/gr343101957/?ref_=bo_ydw_table_37\n",
      "https://www.boxofficemojo.com/releasegroup/gr1163809285/?ref_=bo_ydw_table_38\n",
      "https://www.boxofficemojo.com/releasegroup/gr3050066437/?ref_=bo_ydw_table_39\n",
      "https://www.boxofficemojo.com/releasegroup/gr2413711877/?ref_=bo_ydw_table_40\n",
      "https://www.boxofficemojo.com/releasegroup/gr3789509125/?ref_=bo_ydw_table_41\n",
      "https://www.boxofficemojo.com/releasegroup/gr3721155077/?ref_=bo_ydw_table_42\n",
      "https://www.boxofficemojo.com/releasegroup/gr2348044805/?ref_=bo_ydw_table_43\n",
      "https://www.boxofficemojo.com/releasegroup/gr1664897541/?ref_=bo_ydw_table_44\n",
      "https://www.boxofficemojo.com/releasegroup/gr1282822661/?ref_=bo_ydw_table_45\n",
      "https://www.boxofficemojo.com/releasegroup/gr1501254149/?ref_=bo_ydw_table_46\n",
      "https://www.boxofficemojo.com/releasegroup/gr2278773253/?ref_=bo_ydw_table_47\n",
      "https://www.boxofficemojo.com/releasegroup/gr3710145029/?ref_=bo_ydw_table_48\n",
      "https://www.boxofficemojo.com/releasegroup/gr3357495813/?ref_=bo_ydw_table_49\n",
      "https://www.boxofficemojo.com/releasegroup/gr3812381189/?ref_=bo_ydw_table_50\n",
      "https://www.boxofficemojo.com/releasegroup/gr3676721669/?ref_=bo_ydw_table_51\n",
      "https://www.boxofficemojo.com/releasegroup/gr936333829/?ref_=bo_ydw_table_52\n",
      "https://www.boxofficemojo.com/releasegroup/gr430658053/?ref_=bo_ydw_table_53\n",
      "https://www.boxofficemojo.com/releasegroup/gr2161791493/?ref_=bo_ydw_table_54\n",
      "https://www.boxofficemojo.com/releasegroup/gr1421890053/?ref_=bo_ydw_table_55\n",
      "https://www.boxofficemojo.com/releasegroup/gr736186885/?ref_=bo_ydw_table_56\n",
      "https://www.boxofficemojo.com/releasegroup/gr1124946437/?ref_=bo_ydw_table_57\n",
      "https://www.boxofficemojo.com/releasegroup/gr1633243653/?ref_=bo_ydw_table_58\n",
      "https://www.boxofficemojo.com/releasegroup/gr2625262085/?ref_=bo_ydw_table_59\n",
      "https://www.boxofficemojo.com/releasegroup/gr1363300869/?ref_=bo_ydw_table_60\n",
      "https://www.boxofficemojo.com/releasegroup/gr1500926469/?ref_=bo_ydw_table_61\n",
      "https://www.boxofficemojo.com/releasegroup/gr3774042629/?ref_=bo_ydw_table_62\n",
      "https://www.boxofficemojo.com/releasegroup/gr3988869637/?ref_=bo_ydw_table_63\n",
      "https://www.boxofficemojo.com/releasegroup/gr1079464453/?ref_=bo_ydw_table_64\n",
      "https://www.boxofficemojo.com/releasegroup/gr2797883909/?ref_=bo_ydw_table_65\n",
      "https://www.boxofficemojo.com/releasegroup/gr1439257093/?ref_=bo_ydw_table_66\n",
      "https://www.boxofficemojo.com/releasegroup/gr1448301061/?ref_=bo_ydw_table_67\n",
      "https://www.boxofficemojo.com/releasegroup/gr4200944133/?ref_=bo_ydw_table_68\n",
      "https://www.boxofficemojo.com/releasegroup/gr1881625093/?ref_=bo_ydw_table_69\n",
      "https://www.boxofficemojo.com/releasegroup/gr1542672901/?ref_=bo_ydw_table_70\n",
      "https://www.boxofficemojo.com/releasegroup/gr3073921541/?ref_=bo_ydw_table_71\n",
      "https://www.boxofficemojo.com/releasegroup/gr4283388421/?ref_=bo_ydw_table_72\n",
      "https://www.boxofficemojo.com/releasegroup/gr1156469253/?ref_=bo_ydw_table_73\n",
      "https://www.boxofficemojo.com/releasegroup/gr4014297605/?ref_=bo_ydw_table_74\n",
      "https://www.boxofficemojo.com/releasegroup/gr47796741/?ref_=bo_ydw_table_75\n",
      "https://www.boxofficemojo.com/releasegroup/gr1041650181/?ref_=bo_ydw_table_76\n",
      "https://www.boxofficemojo.com/releasegroup/gr3404681733/?ref_=bo_ydw_table_77\n",
      "https://www.boxofficemojo.com/releasegroup/gr206721541/?ref_=bo_ydw_table_78\n",
      "https://www.boxofficemojo.com/releasegroup/gr739529221/?ref_=bo_ydw_table_79\n",
      "https://www.boxofficemojo.com/releasegroup/gr3900330501/?ref_=bo_ydw_table_80\n",
      "https://www.boxofficemojo.com/releasegroup/gr2786480645/?ref_=bo_ydw_table_81\n",
      "https://www.boxofficemojo.com/releasegroup/gr857494021/?ref_=bo_ydw_table_82\n",
      "https://www.boxofficemojo.com/releasegroup/gr242831877/?ref_=bo_ydw_table_83\n",
      "https://www.boxofficemojo.com/releasegroup/gr1264931333/?ref_=bo_ydw_table_84\n",
      "https://www.boxofficemojo.com/releasegroup/gr3372831237/?ref_=bo_ydw_table_85\n",
      "https://www.boxofficemojo.com/releasegroup/gr3084079621/?ref_=bo_ydw_table_86\n",
      "https://www.boxofficemojo.com/releasegroup/gr1311461893/?ref_=bo_ydw_table_87\n",
      "https://www.boxofficemojo.com/releasegroup/gr2736869893/?ref_=bo_ydw_table_88\n",
      "https://www.boxofficemojo.com/releasegroup/gr943936005/?ref_=bo_ydw_table_89\n",
      "https://www.boxofficemojo.com/releasegroup/gr2984792581/?ref_=bo_ydw_table_90\n",
      "https://www.boxofficemojo.com/releasegroup/gr3439940101/?ref_=bo_ydw_table_91\n",
      "https://www.boxofficemojo.com/releasegroup/gr3477361157/?ref_=bo_ydw_table_92\n",
      "https://www.boxofficemojo.com/releasegroup/gr101470725/?ref_=bo_ydw_table_93\n",
      "https://www.boxofficemojo.com/releasegroup/gr2154189317/?ref_=bo_ydw_table_94\n",
      "https://www.boxofficemojo.com/releasegroup/gr3932639749/?ref_=bo_ydw_table_95\n",
      "https://www.boxofficemojo.com/releasegroup/gr962417157/?ref_=bo_ydw_table_96\n",
      "https://www.boxofficemojo.com/releasegroup/gr877679109/?ref_=bo_ydw_table_97\n",
      "https://www.boxofficemojo.com/releasegroup/gr2346668549/?ref_=bo_ydw_table_98\n",
      "https://www.boxofficemojo.com/releasegroup/gr4056764933/?ref_=bo_ydw_table_99\n",
      "https://www.boxofficemojo.com/releasegroup/gr2603766277/?ref_=bo_ydw_table_100\n",
      "https://www.boxofficemojo.com/releasegroup/gr1496404485/?ref_=bo_ydw_table_101\n",
      "https://www.boxofficemojo.com/releasegroup/gr1516196357/?ref_=bo_ydw_table_102\n",
      "https://www.boxofficemojo.com/releasegroup/gr218321413/?ref_=bo_ydw_table_103\n",
      "https://www.boxofficemojo.com/releasegroup/gr1978290693/?ref_=bo_ydw_table_104\n",
      "https://www.boxofficemojo.com/releasegroup/gr1547981317/?ref_=bo_ydw_table_105\n",
      "https://www.boxofficemojo.com/releasegroup/gr3071103493/?ref_=bo_ydw_table_106\n",
      "https://www.boxofficemojo.com/releasegroup/gr987910661/?ref_=bo_ydw_table_107\n",
      "https://www.boxofficemojo.com/releasegroup/gr689590789/?ref_=bo_ydw_table_108\n",
      "https://www.boxofficemojo.com/releasegroup/gr3559543301/?ref_=bo_ydw_table_109\n",
      "https://www.boxofficemojo.com/releasegroup/gr3457372677/?ref_=bo_ydw_table_110\n",
      "https://www.boxofficemojo.com/releasegroup/gr1767985669/?ref_=bo_ydw_table_111\n",
      "https://www.boxofficemojo.com/releasegroup/gr879055365/?ref_=bo_ydw_table_112\n",
      "https://www.boxofficemojo.com/releasegroup/gr398610949/?ref_=bo_ydw_table_113\n",
      "https://www.boxofficemojo.com/releasegroup/gr1517048325/?ref_=bo_ydw_table_114\n",
      "https://www.boxofficemojo.com/releasegroup/gr1124225541/?ref_=bo_ydw_table_115\n",
      "https://www.boxofficemojo.com/releasegroup/gr3128381957/?ref_=bo_ydw_table_116\n",
      "https://www.boxofficemojo.com/releasegroup/gr1692815877/?ref_=bo_ydw_table_117\n",
      "https://www.boxofficemojo.com/releasegroup/gr1220956677/?ref_=bo_ydw_table_118\n",
      "https://www.boxofficemojo.com/releasegroup/gr1578717701/?ref_=bo_ydw_table_119\n",
      "https://www.boxofficemojo.com/releasegroup/gr1628197381/?ref_=bo_ydw_table_120\n",
      "https://www.boxofficemojo.com/releasegroup/gr3173732869/?ref_=bo_ydw_table_121\n",
      "https://www.boxofficemojo.com/releasegroup/gr3775549957/?ref_=bo_ydw_table_122\n",
      "https://www.boxofficemojo.com/releasegroup/gr723997189/?ref_=bo_ydw_table_123\n",
      "https://www.boxofficemojo.com/releasegroup/gr3102167557/?ref_=bo_ydw_table_124\n",
      "https://www.boxofficemojo.com/releasegroup/gr4050866693/?ref_=bo_ydw_table_125\n",
      "https://www.boxofficemojo.com/releasegroup/gr3522515461/?ref_=bo_ydw_table_126\n",
      "https://www.boxofficemojo.com/releasegroup/gr1005277701/?ref_=bo_ydw_table_127\n",
      "https://www.boxofficemojo.com/releasegroup/gr1155748357/?ref_=bo_ydw_table_128\n",
      "https://www.boxofficemojo.com/releasegroup/gr2516603397/?ref_=bo_ydw_table_129\n",
      "https://www.boxofficemojo.com/releasegroup/gr1028149765/?ref_=bo_ydw_table_130\n",
      "https://www.boxofficemojo.com/releasegroup/gr2631750149/?ref_=bo_ydw_table_131\n",
      "https://www.boxofficemojo.com/releasegroup/gr3440595461/?ref_=bo_ydw_table_132\n",
      "https://www.boxofficemojo.com/releasegroup/gr2166051333/?ref_=bo_ydw_table_133\n",
      "https://www.boxofficemojo.com/releasegroup/gr1694519813/?ref_=bo_ydw_table_134\n",
      "https://www.boxofficemojo.com/releasegroup/gr550064645/?ref_=bo_ydw_table_135\n",
      "https://www.boxofficemojo.com/releasegroup/gr2951827973/?ref_=bo_ydw_table_136\n",
      "https://www.boxofficemojo.com/releasegroup/gr1813008901/?ref_=bo_ydw_table_137\n",
      "https://www.boxofficemojo.com/releasegroup/gr1818710533/?ref_=bo_ydw_table_138\n",
      "https://www.boxofficemojo.com/releasegroup/gr488985093/?ref_=bo_ydw_table_139\n",
      "https://www.boxofficemojo.com/releasegroup/gr3221574149/?ref_=bo_ydw_table_140\n",
      "https://www.boxofficemojo.com/releasegroup/gr2818396677/?ref_=bo_ydw_table_141\n",
      "https://www.boxofficemojo.com/releasegroup/gr2557563397/?ref_=bo_ydw_table_142\n",
      "https://www.boxofficemojo.com/releasegroup/gr1290883589/?ref_=bo_ydw_table_143\n",
      "https://www.boxofficemojo.com/releasegroup/gr1846694405/?ref_=bo_ydw_table_144\n",
      "https://www.boxofficemojo.com/releasegroup/gr1708610053/?ref_=bo_ydw_table_145\n",
      "https://www.boxofficemojo.com/releasegroup/gr1212830213/?ref_=bo_ydw_table_146\n",
      "https://www.boxofficemojo.com/releasegroup/gr1920160261/?ref_=bo_ydw_table_147\n",
      "https://www.boxofficemojo.com/releasegroup/gr2801684997/?ref_=bo_ydw_table_148\n",
      "https://www.boxofficemojo.com/releasegroup/gr3614593541/?ref_=bo_ydw_table_149\n",
      "https://www.boxofficemojo.com/releasegroup/gr3618329093/?ref_=bo_ydw_table_150\n",
      "https://www.boxofficemojo.com/releasegroup/gr946295301/?ref_=bo_ydw_table_151\n",
      "https://www.boxofficemojo.com/releasegroup/gr3285537285/?ref_=bo_ydw_table_152\n",
      "https://www.boxofficemojo.com/releasegroup/gr986993157/?ref_=bo_ydw_table_153\n",
      "https://www.boxofficemojo.com/releasegroup/gr4112404997/?ref_=bo_ydw_table_154\n",
      "https://www.boxofficemojo.com/releasegroup/gr1344819717/?ref_=bo_ydw_table_155\n",
      "https://www.boxofficemojo.com/releasegroup/gr241652229/?ref_=bo_ydw_table_156\n",
      "https://www.boxofficemojo.com/releasegroup/gr812143109/?ref_=bo_ydw_table_157\n",
      "https://www.boxofficemojo.com/releasegroup/gr1207783941/?ref_=bo_ydw_table_158\n",
      "https://www.boxofficemojo.com/releasegroup/gr3822146053/?ref_=bo_ydw_table_159\n",
      "https://www.boxofficemojo.com/releasegroup/gr2252427781/?ref_=bo_ydw_table_160\n",
      "https://www.boxofficemojo.com/releasegroup/gr2001097221/?ref_=bo_ydw_table_161\n",
      "https://www.boxofficemojo.com/releasegroup/gr3202830853/?ref_=bo_ydw_table_162\n",
      "https://www.boxofficemojo.com/releasegroup/gr2939376133/?ref_=bo_ydw_table_163\n",
      "https://www.boxofficemojo.com/releasegroup/gr3024376325/?ref_=bo_ydw_table_164\n",
      "https://www.boxofficemojo.com/releasegroup/gr299848197/?ref_=bo_ydw_table_165\n",
      "https://www.boxofficemojo.com/releasegroup/gr2774880773/?ref_=bo_ydw_table_166\n",
      "https://www.boxofficemojo.com/releasegroup/gr142430725/?ref_=bo_ydw_table_167\n",
      "https://www.boxofficemojo.com/releasegroup/gr124080645/?ref_=bo_ydw_table_168\n",
      "https://www.boxofficemojo.com/releasegroup/gr2600555013/?ref_=bo_ydw_table_169\n",
      "https://www.boxofficemojo.com/releasegroup/gr1348555269/?ref_=bo_ydw_table_170\n",
      "https://www.boxofficemojo.com/releasegroup/gr4124201477/?ref_=bo_ydw_table_171\n",
      "https://www.boxofficemojo.com/releasegroup/gr3810480645/?ref_=bo_ydw_table_172\n",
      "https://www.boxofficemojo.com/releasegroup/gr1578390021/?ref_=bo_ydw_table_173\n",
      "https://www.boxofficemojo.com/releasegroup/gr1124028933/?ref_=bo_ydw_table_174\n",
      "https://www.boxofficemojo.com/releasegroup/gr2882818565/?ref_=bo_ydw_table_175\n",
      "https://www.boxofficemojo.com/releasegroup/gr3554365957/?ref_=bo_ydw_table_176\n",
      "https://www.boxofficemojo.com/releasegroup/gr2467058181/?ref_=bo_ydw_table_177\n",
      "https://www.boxofficemojo.com/releasegroup/gr14438917/?ref_=bo_ydw_table_178\n",
      "https://www.boxofficemojo.com/releasegroup/gr3841544709/?ref_=bo_ydw_table_179\n",
      "https://www.boxofficemojo.com/releasegroup/gr3019592197/?ref_=bo_ydw_table_180\n",
      "https://www.boxofficemojo.com/releasegroup/gr2582270469/?ref_=bo_ydw_table_181\n",
      "https://www.boxofficemojo.com/releasegroup/gr3896660485/?ref_=bo_ydw_table_182\n",
      "https://www.boxofficemojo.com/releasegroup/gr3326104069/?ref_=bo_ydw_table_183\n",
      "https://www.boxofficemojo.com/releasegroup/gr1068192261/?ref_=bo_ydw_table_184\n",
      "https://www.boxofficemojo.com/releasegroup/gr1632719365/?ref_=bo_ydw_table_185\n",
      "https://www.boxofficemojo.com/releasegroup/gr1528517125/?ref_=bo_ydw_table_186\n",
      "https://www.boxofficemojo.com/releasegroup/gr805851653/?ref_=bo_ydw_table_187\n",
      "https://www.boxofficemojo.com/releasegroup/gr1137005061/?ref_=bo_ydw_table_188\n",
      "https://www.boxofficemojo.com/releasegroup/gr3791606277/?ref_=bo_ydw_table_189\n",
      "https://www.boxofficemojo.com/releasegroup/gr659247621/?ref_=bo_ydw_table_190\n",
      "https://www.boxofficemojo.com/releasegroup/gr1525436933/?ref_=bo_ydw_table_191\n",
      "https://www.boxofficemojo.com/releasegroup/gr844124677/?ref_=bo_ydw_table_192\n",
      "https://www.boxofficemojo.com/releasegroup/gr326783493/?ref_=bo_ydw_table_193\n",
      "https://www.boxofficemojo.com/releasegroup/gr2782351877/?ref_=bo_ydw_table_194\n",
      "https://www.boxofficemojo.com/releasegroup/gr886002181/?ref_=bo_ydw_table_195\n",
      "https://www.boxofficemojo.com/releasegroup/gr2501923333/?ref_=bo_ydw_table_196\n",
      "https://www.boxofficemojo.com/releasegroup/gr1640714757/?ref_=bo_ydw_table_197\n",
      "https://www.boxofficemojo.com/releasegroup/gr4161163781/?ref_=bo_ydw_table_198\n",
      "https://www.boxofficemojo.com/releasegroup/gr1461342725/?ref_=bo_ydw_table_199\n",
      "https://www.boxofficemojo.com/releasegroup/gr739267077/?ref_=bo_ydw_table_200\n"
     ]
    }
   ],
   "source": [
    "from selenium.webdriver.support.ui import WebDriverWait\n",
    "from selenium.webdriver.support import expected_conditions as EC\n",
    "from selenium.webdriver.common.by import By\n",
    "table = WebDriverWait(driver, 10).until(EC.presence_of_all_elements_located(\n",
    "    (By.XPATH, \"//table[@class='a-bordered a-horizontal-stripes a-size-base a-span12 mojo-body-table mojo-table-annotated scrolling-data-table']/tbody/tr/td/a[@href]\")))\n",
    "links = [element.get_attribute(\"href\") for element in table]"
   ]
  },
  {
   "cell_type": "code",
   "execution_count": 56,
   "id": "6d90629e",
   "metadata": {},
   "outputs": [],
   "source": [
    "# Clica no primeiro link da lista e abre a página correspondente\n",
    "driver.get(links[0])"
   ]
  },
  {
   "cell_type": "code",
   "execution_count": 57,
   "id": "aa8c9235",
   "metadata": {},
   "outputs": [],
   "source": [
    "title_summary_link = WebDriverWait(driver, 10).until(EC.presence_of_element_located(\n",
    "    (By.XPATH, \"//span[@class='mojo-hidden-from-mobile']\")))"
   ]
  },
  {
   "cell_type": "code",
   "execution_count": 58,
   "id": "ec057e40",
   "metadata": {},
   "outputs": [],
   "source": [
    "title_summary_link.click()"
   ]
  },
  {
   "cell_type": "code",
   "execution_count": 79,
   "id": "e7481a5a",
   "metadata": {},
   "outputs": [],
   "source": [
    "movie_title = WebDriverWait(driver, 10).until(EC.presence_of_element_located(\n",
    "    (By.XPATH, \"//h1[@class='a-size-extra-large']\"))).text\n",
    "movie_summary = WebDriverWait(driver, 10).until(EC.presence_of_element_located(\n",
    "    (By.XPATH, \"//span[@class='a-size-medium']\"))).text\n",
    "gross = WebDriverWait(driver, 10).until(EC.presence_of_all_elements_located(\n",
    "    (By.XPATH, \"//div[@class='a-section a-spacing-none mojo-performance-summary-table']/div/span[@class='a-size-medium a-text-bold']/span[@class='money']\")))\n",
    "domestic_gross = int(gross[0].text.replace('$', '').replace(',', ''))\n",
    "international_gross = int(gross[1].text.replace('$', '').replace(',', ''))\n",
    "worldwide_gross = domestic_gross + international_gross"
   ]
  },
  {
   "cell_type": "code",
   "execution_count": 95,
   "id": "0c08464c",
   "metadata": {},
   "outputs": [],
   "source": [
    "table_info = WebDriverWait(driver, 10).until(EC.presence_of_all_elements_located(\n",
    "    (By.XPATH, \"//div[@class='a-section a-spacing-none mojo-summary-values mojo-hidden-from-mobile']/div\"))) "
   ]
  },
  {
   "cell_type": "code",
   "execution_count": null,
   "id": "eb04f340",
   "metadata": {},
   "outputs": [
    {
     "name": "stdout",
     "output_type": "stream",
     "text": [
      "Domestic Distributor\n",
      "Paramount Pictures\n",
      "See full company information\n",
      "here\n",
      "Domestic Opening\n",
      "$8,193,052\n",
      "Earliest Release Date\n",
      "Maio 16, 1986 (Domestic)\n",
      "Running Time\n",
      "1 hr 49 min\n",
      "Genres\n",
      "Action Drama\n",
      "IMDbPro\n",
      "See more details at IMDbPro\n"
     ]
    }
   ],
   "source": [
    "domestic_distributor = None\n",
    "for k, i in enumerate(table_info):\n",
    "    print(i.text)\n",
    "    if i.text == 'Domestic Distributor\\nParamount Pictures\\nSee full company information':\n",
    "        print(\"here\")\n",
    "    match i.text:\n",
    "        case 'Domestic Distributor':\n",
    "            domestic_distributor = table_info[k + 1].text"
   ]
  },
  {
   "cell_type": "code",
   "execution_count": 108,
   "id": "26bf9556",
   "metadata": {},
   "outputs": [
    {
     "data": {
      "text/plain": [
       "'Domestic Distributor\\nParamount Pictures\\nSee full company information'"
      ]
     },
     "execution_count": 108,
     "metadata": {},
     "output_type": "execute_result"
    }
   ],
   "source": [
    "table_info[0].text"
   ]
  },
  {
   "cell_type": "code",
   "execution_count": 68,
   "id": "4afea01d",
   "metadata": {},
   "outputs": [
    {
     "name": "stdout",
     "output_type": "stream",
     "text": [
      "Top Gun\n"
     ]
    }
   ],
   "source": [
    "import re\n",
    "\n",
    "movie = re.sub(r'\\s*\\(\\d{4}\\)$', '', movie_title)\n",
    "print(movie)"
   ]
  },
  {
   "cell_type": "code",
   "execution_count": null,
   "id": "fbcc42e5",
   "metadata": {},
   "outputs": [
    {
     "data": {
      "text/plain": [
       "'Top Gun 1986'"
      ]
     },
     "execution_count": 65,
     "metadata": {},
     "output_type": "execute_result"
    }
   ],
   "source": []
  }
 ],
 "metadata": {
  "kernelspec": {
   "display_name": "base",
   "language": "python",
   "name": "python3"
  },
  "language_info": {
   "codemirror_mode": {
    "name": "ipython",
    "version": 3
   },
   "file_extension": ".py",
   "mimetype": "text/x-python",
   "name": "python",
   "nbconvert_exporter": "python",
   "pygments_lexer": "ipython3",
   "version": "3.12.4"
  }
 },
 "nbformat": 4,
 "nbformat_minor": 5
}
