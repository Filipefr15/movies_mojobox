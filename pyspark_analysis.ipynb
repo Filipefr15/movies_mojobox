{
 "cells": [
  {
   "cell_type": "code",
   "execution_count": null,
   "id": "85387bce",
   "metadata": {},
   "outputs": [],
   "source": [
    "from pyspark.sql import SparkSession\n",
    "from pyspark.sql.functions import split\n",
    "import pandas as pd\n",
    "\n",
    "spark = SparkSession.builder.appName(\"worldwide_box_office\").getOrCreate()\n",
    "\n",
    "df = pd.read_csv(\"worldwide_box_office_1977_2025.csv\")\n",
    "df = spark.createDataFrame(df)\n",
    "\n",
    "# retirando as duplicatas nos nomes dos filmes\n",
    "df = df.dropDuplicates([\"movie_title\"])\n",
    "\n",
    "# separando a data que está em ANO-MES-DIA para ficar em colunas\n",
    "df = df.withColumn(\"release_year\", split(df[\"release_date\"], \"-\")[0]) \\\n",
    "       .withColumn(\"release_month\", split(df[\"release_date\"], \"-\")[1]) \\\n",
    "       .withColumn(\"release_day\", split(df[\"release_date\"], \"-\")[2])\n",
    "\n",
    "# separando os gêneros para melhor organização e análise (não representa que o gênero 1 é o principal)\n",
    "df = df.withColumn(\"genre_01\", split(df[\"genres\"], \" \")[0]) \\\n",
    "       .withColumn(\"genre_02\", split(df[\"genres\"], \" \")[1]) \\\n",
    "       .withColumn(\"genre_03\", split(df[\"genres\"], \" \")[2]) \\\n",
    "       .withColumn(\"genre_04\", split(df[\"genres\"], \" \")[3]) \\\n",
    "       .withColumn(\"genre_05\", split(df[\"genres\"], \" \")[4]) \\\n",
    "       .withColumn(\"genre_06\", split(df[\"genres\"], \" \")[5]) \\\n",
    "       .withColumn(\"genre_07\", split(df[\"genres\"], \" \")[6]) \\\n",
    "       .withColumn(\"genre_08\", split(df[\"genres\"], \" \")[7]) \\\n",
    "       .withColumn(\"genre_09\", split(df[\"genres\"], \" \")[8]) \\\n",
    "       .withColumn(\"genre_10\", split(df[\"genres\"], \" \")[9]) \n",
    "\n",
    "#df.show(5)\n",
    "\n",
    "#spark.stop()"
   ]
  },
  {
   "cell_type": "code",
   "execution_count": null,
   "id": "ea20a7c7",
   "metadata": {},
   "outputs": [],
   "source": [
    "from pyspark.sql.functions import year, avg, format_number, col, round\n",
    "\n",
    "# Lendo o arquivo CSV com os dados do CPI (Consumer Price Index)\n",
    "df_cpi = spark.read.csv(\"CPIAUCNS.csv\", header=True, inferSchema=True)\n",
    "\n",
    "# Convertendo a coluna observation_date para o tipo de dado Date \n",
    "cpi_df = df_cpi.withColumn(\"year_cpi\", year(\"observation_date\")) \\\n",
    "    .groupBy(\"year_cpi\") \\\n",
    "    .agg(avg(\"CPIAUCNS\").alias(\"CPI_value\"))\n",
    "\n",
    "# Arredondando para duas casas decimais pq não queria que a multiplicação ficasse com muitas casas decimais\n",
    "cpi_df = cpi_df.withColumn('CPI_Value', format_number('CPI_Value', 2))\n",
    "\n",
    "# (antes era para ser dinâmico, por isso renomeio a coluna, mas depois decidi deixar o valor fixo\n",
    "# de 2024, isso aqui é um left join basicamente)\n",
    "df = df.join(cpi_df.withColumnRenamed(\"CPI_value\", \"CPI_original\"), df.release_year == cpi_df.year_cpi, \"left\")\n",
    "\n",
    "# Ajustando os valores de bilheteira para o ano de 2024 usando o CPI\n",
    "CPI_2024 = 313.69\n",
    "df = df.withColumn(\"domestic_gross_adjusted\", col(\"domestic_gross\") * (CPI_2024 / col(\"CPI_original\")))\n",
    "df = df.withColumn(\"international_gross_adjusted\", col(\"international_gross\") * (CPI_2024 / col(\"CPI_original\")))\n",
    "df = df.withColumn(\"total_gross_adjusted\", col(\"total_gross\") * (CPI_2024 / col(\"CPI_original\")))\n",
    "df = df.withColumn(\"domestic_opening_adjusted\", col(\"domestic_opening\") * (CPI_2024 / col(\"CPI_original\")))\n",
    "\n",
    "# Arredondando para long (inteiro), para evitar problemas com valores decimais\n",
    "# talvez isso faça com que o meu passo anterior de arredondar seja inútil, mas fazer o que né kkk\n",
    "df = df.withColumn('domestic_gross_adjusted', round('domestic_gross_adjusted').cast('long'))\n",
    "df = df.withColumn('international_gross_adjusted', round('international_gross_adjusted').cast('long'))\n",
    "df = df.withColumn('total_gross_adjusted', round('total_gross_adjusted').cast('long'))\n",
    "df = df.withColumn('domestic_opening_adjusted', round('domestic_opening_adjusted').cast('long'))\n"
   ]
  }
 ],
 "metadata": {
  "kernelspec": {
   "display_name": "Python 3",
   "language": "python",
   "name": "python3"
  },
  "language_info": {
   "codemirror_mode": {
    "name": "ipython",
    "version": 3
   },
   "file_extension": ".py",
   "mimetype": "text/x-python",
   "name": "python",
   "nbconvert_exporter": "python",
   "pygments_lexer": "ipython3",
   "version": "3.13.5"
  }
 },
 "nbformat": 4,
 "nbformat_minor": 5
}
